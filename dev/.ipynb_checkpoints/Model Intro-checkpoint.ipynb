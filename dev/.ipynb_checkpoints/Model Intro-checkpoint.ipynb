{
 "cells": [
  {
   "cell_type": "markdown",
   "id": "0fc1f3b7-935a-4010-a0aa-e8e4bf61acf9",
   "metadata": {},
   "source": [
    "# To do\n",
    "\n",
    "2. write a function to get the roster of a given team in a given season \n",
    "   - 2a Write a function to get individual team pers and games palyers of team TOT \n",
    "\n",
    "3. partition data for predictions:\n",
    "    - what are we considering? we can make a model that has an input for:\n",
    "        - x number of historical head to head matchups  \n",
    "        - team roster pers \n",
    "        - injury data \n",
    "        - regular season info \n",
    "    \n",
    "        \n",
    "4. Decide test train partitions:\n",
    "    - previous 2 seasons for next season based on literature \n",
    "    \n",
    "4. test model architerctures \n",
    "\n",
    "5. Decide on best model architecture \n",
    "\n",
    "5. test Hyerparameters \n",
    "\n",
    "6. Report \n",
    "\n",
    "<!-- further work  -->\n",
    "<!-- per predictor based on college stats found on each players basketball reference  -->"
   ]
  },
  {
   "cell_type": "code",
   "execution_count": 12,
   "id": "75de1862-e83c-4453-9238-022cd0c30d02",
   "metadata": {
    "tags": []
   },
   "outputs": [
    {
     "data": {
      "text/plain": [
       "['[2017, 2018]_game_stats.parquet.gzip',\n",
       " 'PER_table_error.parquet_files',\n",
       " 'data merging.ipynb',\n",
       " 'df.pickle',\n",
       " '[2019, 2020].parquet.gzip',\n",
       " 'season_rosters.csv',\n",
       " 'Model Intro.ipynb',\n",
       " 'player_info_per.parquet.gzip',\n",
       " 'IST_NBA_data_gen.ipynb',\n",
       " 'scrape_data.py',\n",
       " 'yearly_rosters.csv',\n",
       " 'PER_table.parquet.gzip',\n",
       " '[2015, 2016].parquet.gzip',\n",
       " '.DS_Store',\n",
       " 'missing_players.parquet.gzip',\n",
       " 'seasons_per_s.csv',\n",
       " 'final_6.parquet.gzip',\n",
       " '[2019, 2020]_game_stats.parquet.gzip',\n",
       " 'PER_table_error.parquet.gzip',\n",
       " 'Luca Vildoza Stats, Height, Weight, Position, Draft Status and more _ Basketball-Reference.com_files',\n",
       " '[2021, 2022].parquet.gzip',\n",
       " 'players_v_vildolu01.csv',\n",
       " '[2015, 2016]_game_stats.parquet.gzip',\n",
       " 'Untitled.ipynb',\n",
       " '[2017, 2018].parquet.gzip',\n",
       " '[2019, 2020]_error.parquet.gzip',\n",
       " '[2021, 2022]_game_stats.parquet.gzip',\n",
       " '[2015, 2016]_game_stats_error.parquet.gzip',\n",
       " '.ipynb_checkpoints',\n",
       " '[2021, 2022]_error.parquet.gzip',\n",
       " 'scrape_data_15-16.py',\n",
       " 'year_team_link.csv',\n",
       " 'Untitled1.ipynb']"
      ]
     },
     "execution_count": 12,
     "metadata": {},
     "output_type": "execute_result"
    }
   ],
   "source": [
    "ls()\n"
   ]
  },
  {
   "cell_type": "code",
   "execution_count": 3,
   "id": "7e8f8d1f-3bb0-4830-8a4d-48d9ddbb62a0",
   "metadata": {
    "tags": []
   },
   "outputs": [],
   "source": [
    "import pandas as pd \n",
    "import numpy as np \n",
    "from os import listdir as ls\n",
    "import tensorflow as tf\n",
    "from sklearn.decomposition import PCA"
   ]
  },
  {
   "cell_type": "code",
   "execution_count": 95,
   "id": "53794254-8148-4a9d-8e65-022bf1538848",
   "metadata": {
    "tags": []
   },
   "outputs": [],
   "source": [
    "v1 = pd.read_parquet('[2015, 2016]_game_stats.parquet.gzip')\n",
    "v2 = pd.read_parquet('[2017, 2018]_game_stats.parquet.gzip')\n",
    "v3 = pd.read_parquet('[2019, 2020]_game_stats.parquet.gzip')\n",
    "v4 = pd.read_parquet('[2021, 2022]_game_stats.parquet.gzip')\n",
    "\n",
    "season_reg = pd.concat([v1, v2, v3, v4], axis = 0)\n",
    "season_reg.to_csv(\"season_reg.csv\")"
   ]
  },
  {
   "cell_type": "code",
   "execution_count": 96,
   "id": "72225089",
   "metadata": {},
   "outputs": [],
   "source": [
    "def select_season(season_string):\n",
    "    seasons = pd.read_csv(\"season_reg.csv\")\n",
    "    seasons['date'] = pd.to_datetime(seasons['date'])\n",
    "    start_date = f'20{season_string[2:4]}-10-03'\n",
    "    end_date = f'20{season_string[-2:]}-04-30'\n",
    "    return seasons[(seasons['date'] >= start_date) & (seasons['date'] <= end_date)].drop('Unnamed: 0', axis = 1).reset_index"
   ]
  },
  {
   "cell_type": "markdown",
   "id": "a46b2a9c-f461-47d2-b20a-d86aaf22ccf3",
   "metadata": {
    "tags": []
   },
   "source": [
    "# Player Pers"
   ]
  },
  {
   "cell_type": "code",
   "execution_count": 6,
   "id": "eda1e7c8-7fc8-492a-a194-21b3ebe7f7dc",
   "metadata": {
    "tags": []
   },
   "outputs": [
    {
     "name": "stdout",
     "output_type": "stream",
     "text": [
      "['GSW' 'PHO' 'DAL' 'TOT' 'SAC' 'CLE' 'LAL' 'ATL' 'CHI' 'NYK' 'MEM' 'IND'\n",
      " 'MIA' 'BOS' 'SAS' 'PHI' 'MIN' 'LAC' 'ORL' 'DET' 'BRK' 'MIL' 'NOP' 'CHO'\n",
      " 'HOU' 'WAS' 'DEN' 'UTA' 'TOR' 'POR' 'OKC'] 31\n"
     ]
    }
   ],
   "source": [
    "players_teams=pd.read_csv('seasons_per_s.csv')\n",
    "print(players_teams['team_id'].unique(), len(players_teams['team_id'].unique()))\n",
    "# what is TOT"
   ]
  },
  {
   "cell_type": "code",
   "execution_count": 90,
   "id": "2e7fa6d7-57a1-4e7e-a5c1-01ce646474da",
   "metadata": {
    "tags": []
   },
   "outputs": [
    {
     "data": {
      "text/html": [
       "<div>\n",
       "<style scoped>\n",
       "    .dataframe tbody tr th:only-of-type {\n",
       "        vertical-align: middle;\n",
       "    }\n",
       "\n",
       "    .dataframe tbody tr th {\n",
       "        vertical-align: top;\n",
       "    }\n",
       "\n",
       "    .dataframe thead th {\n",
       "        text-align: right;\n",
       "    }\n",
       "</style>\n",
       "<table border=\"1\" class=\"dataframe\">\n",
       "  <thead>\n",
       "    <tr style=\"text-align: right;\">\n",
       "      <th></th>\n",
       "      <th>season</th>\n",
       "      <th>team_id</th>\n",
       "      <th>player_dir</th>\n",
       "      <th>per</th>\n",
       "    </tr>\n",
       "  </thead>\n",
       "  <tbody>\n",
       "    <tr>\n",
       "      <th>7</th>\n",
       "      <td>2018-19</td>\n",
       "      <td>TOT</td>\n",
       "      <td>/players/b/barneha02.html</td>\n",
       "      <td>12.8</td>\n",
       "    </tr>\n",
       "    <tr>\n",
       "      <th>15</th>\n",
       "      <td>2016-17</td>\n",
       "      <td>TOT</td>\n",
       "      <td>/players/b/bogutan01.html</td>\n",
       "      <td>9.3</td>\n",
       "    </tr>\n",
       "    <tr>\n",
       "      <th>28</th>\n",
       "      <td>2015-16</td>\n",
       "      <td>TOT</td>\n",
       "      <td>/players/h/holidju01.html</td>\n",
       "      <td>9.4</td>\n",
       "    </tr>\n",
       "    <tr>\n",
       "      <th>33</th>\n",
       "      <td>2018-19</td>\n",
       "      <td>TOT</td>\n",
       "      <td>/players/h/holidju01.html</td>\n",
       "      <td>10.0</td>\n",
       "    </tr>\n",
       "    <tr>\n",
       "      <th>38</th>\n",
       "      <td>2021-22</td>\n",
       "      <td>TOT</td>\n",
       "      <td>/players/h/holidju01.html</td>\n",
       "      <td>9.5</td>\n",
       "    </tr>\n",
       "    <tr>\n",
       "      <th>...</th>\n",
       "      <td>...</td>\n",
       "      <td>...</td>\n",
       "      <td>...</td>\n",
       "      <td>...</td>\n",
       "    </tr>\n",
       "    <tr>\n",
       "      <th>5036</th>\n",
       "      <td>2021-22</td>\n",
       "      <td>TOT</td>\n",
       "      <td>/players/k/keybr01.html</td>\n",
       "      <td>13.7</td>\n",
       "    </tr>\n",
       "    <tr>\n",
       "      <th>5054</th>\n",
       "      <td>2021-22</td>\n",
       "      <td>TOT</td>\n",
       "      <td>/players/b/brownch05.html</td>\n",
       "      <td>6.4</td>\n",
       "    </tr>\n",
       "    <tr>\n",
       "      <th>5058</th>\n",
       "      <td>2021-22</td>\n",
       "      <td>TOT</td>\n",
       "      <td>/players/h/hillma01.html</td>\n",
       "      <td>12.7</td>\n",
       "    </tr>\n",
       "    <tr>\n",
       "      <th>5077</th>\n",
       "      <td>2021-22</td>\n",
       "      <td>TOT</td>\n",
       "      <td>/players/j/johnske07.html</td>\n",
       "      <td>8.7</td>\n",
       "    </tr>\n",
       "    <tr>\n",
       "      <th>5085</th>\n",
       "      <td>2021-22</td>\n",
       "      <td>TOT</td>\n",
       "      <td>/players/m/mccluma01.html</td>\n",
       "      <td>5.2</td>\n",
       "    </tr>\n",
       "  </tbody>\n",
       "</table>\n",
       "<p>556 rows × 4 columns</p>\n",
       "</div>"
      ],
      "text/plain": [
       "       season team_id                 player_dir   per\n",
       "7     2018-19     TOT  /players/b/barneha02.html  12.8\n",
       "15    2016-17     TOT  /players/b/bogutan01.html   9.3\n",
       "28    2015-16     TOT  /players/h/holidju01.html   9.4\n",
       "33    2018-19     TOT  /players/h/holidju01.html  10.0\n",
       "38    2021-22     TOT  /players/h/holidju01.html   9.5\n",
       "...       ...     ...                        ...   ...\n",
       "5036  2021-22     TOT    /players/k/keybr01.html  13.7\n",
       "5054  2021-22     TOT  /players/b/brownch05.html   6.4\n",
       "5058  2021-22     TOT   /players/h/hillma01.html  12.7\n",
       "5077  2021-22     TOT  /players/j/johnske07.html   8.7\n",
       "5085  2021-22     TOT  /players/m/mccluma01.html   5.2\n",
       "\n",
       "[556 rows x 4 columns]"
      ]
     },
     "execution_count": 90,
     "metadata": {},
     "output_type": "execute_result"
    }
   ],
   "source": [
    "# TOT means a players played on multiple teams \n",
    "players_teams[players_teams['team_id']=='TOT']"
   ]
  },
  {
   "cell_type": "code",
   "execution_count": 10,
   "id": "4c5a031f-7e85-4fae-b655-3d8671b305dc",
   "metadata": {
    "tags": []
   },
   "outputs": [
    {
     "data": {
      "text/html": [
       "<div>\n",
       "<style scoped>\n",
       "    .dataframe tbody tr th:only-of-type {\n",
       "        vertical-align: middle;\n",
       "    }\n",
       "\n",
       "    .dataframe tbody tr th {\n",
       "        vertical-align: top;\n",
       "    }\n",
       "\n",
       "    .dataframe thead th {\n",
       "        text-align: right;\n",
       "    }\n",
       "</style>\n",
       "<table border=\"1\" class=\"dataframe\">\n",
       "  <thead>\n",
       "    <tr style=\"text-align: right;\">\n",
       "      <th></th>\n",
       "      <th>season</th>\n",
       "      <th>team_id</th>\n",
       "      <th>player_dir</th>\n",
       "      <th>per</th>\n",
       "    </tr>\n",
       "  </thead>\n",
       "  <tbody>\n",
       "    <tr>\n",
       "      <th>7</th>\n",
       "      <td>2018-19</td>\n",
       "      <td>TOT</td>\n",
       "      <td>/players/b/barneha02.html</td>\n",
       "      <td>12.8</td>\n",
       "    </tr>\n",
       "    <tr>\n",
       "      <th>8</th>\n",
       "      <td>2018-19</td>\n",
       "      <td>DAL</td>\n",
       "      <td>/players/b/barneha02.html</td>\n",
       "      <td>13.1</td>\n",
       "    </tr>\n",
       "    <tr>\n",
       "      <th>9</th>\n",
       "      <td>2018-19</td>\n",
       "      <td>SAC</td>\n",
       "      <td>/players/b/barneha02.html</td>\n",
       "      <td>12.3</td>\n",
       "    </tr>\n",
       "  </tbody>\n",
       "</table>\n",
       "</div>"
      ],
      "text/plain": [
       "    season team_id                 player_dir   per\n",
       "7  2018-19     TOT  /players/b/barneha02.html  12.8\n",
       "8  2018-19     DAL  /players/b/barneha02.html  13.1\n",
       "9  2018-19     SAC  /players/b/barneha02.html  12.3"
      ]
     },
     "execution_count": 10,
     "metadata": {},
     "output_type": "execute_result"
    }
   ],
   "source": [
    "barneha02 = players_teams[players_teams['player_dir']=='/players/b/barneha02.html'] \n",
    "barneha02[barneha02['season']=='2018-19'] "
   ]
  },
  {
   "cell_type": "code",
   "execution_count": 11,
   "id": "6709c27b-d2b6-4223-8b9f-b800c2a475c1",
   "metadata": {
    "tags": []
   },
   "outputs": [
    {
     "data": {
      "text/html": [
       "<div>\n",
       "<style scoped>\n",
       "    .dataframe tbody tr th:only-of-type {\n",
       "        vertical-align: middle;\n",
       "    }\n",
       "\n",
       "    .dataframe tbody tr th {\n",
       "        vertical-align: top;\n",
       "    }\n",
       "\n",
       "    .dataframe thead th {\n",
       "        text-align: right;\n",
       "    }\n",
       "</style>\n",
       "<table border=\"1\" class=\"dataframe\">\n",
       "  <thead>\n",
       "    <tr style=\"text-align: right;\">\n",
       "      <th></th>\n",
       "      <th>season</th>\n",
       "      <th>team_id</th>\n",
       "      <th>player_dir</th>\n",
       "      <th>per</th>\n",
       "    </tr>\n",
       "  </thead>\n",
       "  <tbody>\n",
       "    <tr>\n",
       "      <th>7</th>\n",
       "      <td>2018-19</td>\n",
       "      <td>TOT</td>\n",
       "      <td>/players/b/barneha02.html</td>\n",
       "      <td>12.8</td>\n",
       "    </tr>\n",
       "    <tr>\n",
       "      <th>15</th>\n",
       "      <td>2016-17</td>\n",
       "      <td>TOT</td>\n",
       "      <td>/players/b/bogutan01.html</td>\n",
       "      <td>9.3</td>\n",
       "    </tr>\n",
       "    <tr>\n",
       "      <th>28</th>\n",
       "      <td>2015-16</td>\n",
       "      <td>TOT</td>\n",
       "      <td>/players/h/holidju01.html</td>\n",
       "      <td>9.4</td>\n",
       "    </tr>\n",
       "    <tr>\n",
       "      <th>33</th>\n",
       "      <td>2018-19</td>\n",
       "      <td>TOT</td>\n",
       "      <td>/players/h/holidju01.html</td>\n",
       "      <td>10.0</td>\n",
       "    </tr>\n",
       "    <tr>\n",
       "      <th>38</th>\n",
       "      <td>2021-22</td>\n",
       "      <td>TOT</td>\n",
       "      <td>/players/h/holidju01.html</td>\n",
       "      <td>9.5</td>\n",
       "    </tr>\n",
       "    <tr>\n",
       "      <th>...</th>\n",
       "      <td>...</td>\n",
       "      <td>...</td>\n",
       "      <td>...</td>\n",
       "      <td>...</td>\n",
       "    </tr>\n",
       "    <tr>\n",
       "      <th>5036</th>\n",
       "      <td>2021-22</td>\n",
       "      <td>TOT</td>\n",
       "      <td>/players/k/keybr01.html</td>\n",
       "      <td>13.7</td>\n",
       "    </tr>\n",
       "    <tr>\n",
       "      <th>5054</th>\n",
       "      <td>2021-22</td>\n",
       "      <td>TOT</td>\n",
       "      <td>/players/b/brownch05.html</td>\n",
       "      <td>6.4</td>\n",
       "    </tr>\n",
       "    <tr>\n",
       "      <th>5058</th>\n",
       "      <td>2021-22</td>\n",
       "      <td>TOT</td>\n",
       "      <td>/players/h/hillma01.html</td>\n",
       "      <td>12.7</td>\n",
       "    </tr>\n",
       "    <tr>\n",
       "      <th>5077</th>\n",
       "      <td>2021-22</td>\n",
       "      <td>TOT</td>\n",
       "      <td>/players/j/johnske07.html</td>\n",
       "      <td>8.7</td>\n",
       "    </tr>\n",
       "    <tr>\n",
       "      <th>5085</th>\n",
       "      <td>2021-22</td>\n",
       "      <td>TOT</td>\n",
       "      <td>/players/m/mccluma01.html</td>\n",
       "      <td>5.2</td>\n",
       "    </tr>\n",
       "  </tbody>\n",
       "</table>\n",
       "<p>556 rows × 4 columns</p>\n",
       "</div>"
      ],
      "text/plain": [
       "       season team_id                 player_dir   per\n",
       "7     2018-19     TOT  /players/b/barneha02.html  12.8\n",
       "15    2016-17     TOT  /players/b/bogutan01.html   9.3\n",
       "28    2015-16     TOT  /players/h/holidju01.html   9.4\n",
       "33    2018-19     TOT  /players/h/holidju01.html  10.0\n",
       "38    2021-22     TOT  /players/h/holidju01.html   9.5\n",
       "...       ...     ...                        ...   ...\n",
       "5036  2021-22     TOT    /players/k/keybr01.html  13.7\n",
       "5054  2021-22     TOT  /players/b/brownch05.html   6.4\n",
       "5058  2021-22     TOT   /players/h/hillma01.html  12.7\n",
       "5077  2021-22     TOT  /players/j/johnske07.html   8.7\n",
       "5085  2021-22     TOT  /players/m/mccluma01.html   5.2\n",
       "\n",
       "[556 rows x 4 columns]"
      ]
     },
     "execution_count": 11,
     "metadata": {},
     "output_type": "execute_result"
    }
   ],
   "source": [
    "#since we have individual team stats WE NEED TO FIGURE OUT WHO PLAYED WHERE AND WHEN \n",
    "multi_team_players = players_teams[players_teams['team_id']=='TOT'] \n",
    "multi_team_players"
   ]
  },
  {
   "cell_type": "code",
   "execution_count": null,
   "id": "245ad8a5-106a-44af-a0a1-3fed50a3b335",
   "metadata": {},
   "outputs": [],
   "source": [
    "# 2a. Write a function to get individual team pers and games palyers of team TOT \n",
    "\n",
    "# need to scrape from tathead .com using the players dir from player dir \n",
    "    # ex. /players/b/barneha02.html -> https://stathead.com/basketball/player-game-finder.cgi?player_id=barneha02\n",
    "    \n",
    "#then use updated per data to add dates players were on a team."
   ]
  },
  {
   "cell_type": "code",
   "execution_count": 18,
   "id": "a1a2514f",
   "metadata": {},
   "outputs": [],
   "source": [
    "cleaned_reg_season = season_reg.copy()\n",
    "columns = season_reg.columns\n",
    "date_features = ['date']\n",
    "string_features = [ 'home_team', 'away_team', 'arena']\n",
    "numeric_features = [ c for c in columns if c not in string_features + date_features]\n",
    "\n",
    "cleaned_reg_season[numeric_features] = cleaned_reg_season[numeric_features].apply(pd.to_numeric)\n",
    "cleaned_reg_season[date_features] = cleaned_reg_season[date_features].apply(pd.to_datetime)"
   ]
  },
  {
   "cell_type": "code",
   "execution_count": 103,
   "id": "bacfb76d",
   "metadata": {},
   "outputs": [],
   "source": [
    "reg_2021 = cleaned_reg_season[(cleaned_reg_season[\"date\"] >= \"2021-10-19\") & (cleaned_reg_season[\"date\"] <= \"2022-04-10\")]\n",
    "reg_2021 = reg_2021.drop([\"date\", \"home_team\", \"away_team\", \"arena\"] , axis=1)\n",
    "reg_2019 = cleaned_reg_season[(cleaned_reg_season[\"date\"] >= \"2021-10\") & (cleaned_reg_season[\"date\"] <= \"2022-04-30\")]\n",
    "reg_2019 = reg_2019.drop([\"date\", \"home_team\", \"away_team\", \"arena\"] , axis=1)\n",
    "\n",
    "pca = PCA(n_components=30)\n",
    "principal_components = pca.fit_transform(reg_2021)\n",
    "principal_components = pd.DataFrame(principal_components)\n",
    "principal_components\n",
    "\n",
    "\n",
    "pca_2019 = pd.DataFrame(pca.transform(reg_2019))"
   ]
  },
  {
   "cell_type": "code",
   "execution_count": 118,
   "id": "3ecfe55f",
   "metadata": {},
   "outputs": [],
   "source": [
    "spread_2021 = pd.DataFrame(reg_2021[\"home_pts\"] - reg_2021[\"away_pts\"],  columns= [\"spread\"])\n",
    "#spread_2021[\"home_win\"] = 0\n",
    "#spread_2021.loc[spread_2021[\"spread\"] > 0, \"home_win\"] = 1\n",
    "\n",
    "spread_2019 = pd.DataFrame(reg_2019[\"home_pts\"] - reg_2019[\"away_pts\"],  columns= [\"spread\"])\n",
    "#spread_2019[\"home_win\"] = 0\n",
    "#spread_2019.loc[spread_2019[\"spread\"] > 0, \"home_win\"] = 1"
   ]
  },
  {
   "cell_type": "code",
   "execution_count": 150,
   "id": "f66231f1",
   "metadata": {},
   "outputs": [
    {
     "name": "stdout",
     "output_type": "stream",
     "text": [
      "Epoch 1/10\n",
      "\u001b[1m28/28\u001b[0m \u001b[32m━━━━━━━━━━━━━━━━━━━━\u001b[0m\u001b[37m\u001b[0m \u001b[1m2s\u001b[0m 7ms/step - accuracy: 0.0080 - loss: 199.7580 - mean_squared_error: 199.7667 - val_accuracy: 0.0182 - val_loss: 119.0126 - val_mean_squared_error: 119.0126\n",
      "Epoch 2/10\n",
      "\u001b[1m28/28\u001b[0m \u001b[32m━━━━━━━━━━━━━━━━━━━━\u001b[0m\u001b[37m\u001b[0m \u001b[1m0s\u001b[0m 4ms/step - accuracy: 0.0161 - loss: 81.4816 - mean_squared_error: 81.4836 - val_accuracy: 0.0130 - val_loss: 33.1077 - val_mean_squared_error: 33.1077\n",
      "Epoch 3/10\n",
      "\u001b[1m28/28\u001b[0m \u001b[32m━━━━━━━━━━━━━━━━━━━━\u001b[0m\u001b[37m\u001b[0m \u001b[1m0s\u001b[0m 3ms/step - accuracy: 0.0091 - loss: 25.4686 - mean_squared_error: 25.4695 - val_accuracy: 0.0182 - val_loss: 18.8623 - val_mean_squared_error: 18.8623\n",
      "Epoch 4/10\n",
      "\u001b[1m28/28\u001b[0m \u001b[32m━━━━━━━━━━━━━━━━━━━━\u001b[0m\u001b[37m\u001b[0m \u001b[1m0s\u001b[0m 4ms/step - accuracy: 0.0099 - loss: 14.9047 - mean_squared_error: 14.9053 - val_accuracy: 0.0052 - val_loss: 9.8177 - val_mean_squared_error: 9.8177\n",
      "Epoch 5/10\n",
      "\u001b[1m28/28\u001b[0m \u001b[32m━━━━━━━━━━━━━━━━━━━━\u001b[0m\u001b[37m\u001b[0m \u001b[1m0s\u001b[0m 3ms/step - accuracy: 0.0024 - loss: 8.7458 - mean_squared_error: 8.7456 - val_accuracy: 0.0130 - val_loss: 5.9550 - val_mean_squared_error: 5.9550\n",
      "Epoch 6/10\n",
      "\u001b[1m28/28\u001b[0m \u001b[32m━━━━━━━━━━━━━━━━━━━━\u001b[0m\u001b[37m\u001b[0m \u001b[1m0s\u001b[0m 3ms/step - accuracy: 0.0025 - loss: 8.2564 - mean_squared_error: 8.2566 - val_accuracy: 0.0104 - val_loss: 4.3731 - val_mean_squared_error: 4.3731\n",
      "Epoch 7/10\n",
      "\u001b[1m28/28\u001b[0m \u001b[32m━━━━━━━━━━━━━━━━━━━━\u001b[0m\u001b[37m\u001b[0m \u001b[1m0s\u001b[0m 4ms/step - accuracy: 0.0067 - loss: 4.6826 - mean_squared_error: 4.6822 - val_accuracy: 0.0156 - val_loss: 4.3703 - val_mean_squared_error: 4.3703\n",
      "Epoch 8/10\n",
      "\u001b[1m28/28\u001b[0m \u001b[32m━━━━━━━━━━━━━━━━━━━━\u001b[0m\u001b[37m\u001b[0m \u001b[1m0s\u001b[0m 3ms/step - accuracy: 0.0078 - loss: 4.2774 - mean_squared_error: 4.2775 - val_accuracy: 0.0052 - val_loss: 3.1623 - val_mean_squared_error: 3.1623\n",
      "Epoch 9/10\n",
      "\u001b[1m28/28\u001b[0m \u001b[32m━━━━━━━━━━━━━━━━━━━━\u001b[0m\u001b[37m\u001b[0m \u001b[1m0s\u001b[0m 4ms/step - accuracy: 0.0058 - loss: 3.0701 - mean_squared_error: 3.0701 - val_accuracy: 0.0026 - val_loss: 4.4993 - val_mean_squared_error: 4.4993\n",
      "Epoch 10/10\n",
      "\u001b[1m28/28\u001b[0m \u001b[32m━━━━━━━━━━━━━━━━━━━━\u001b[0m\u001b[37m\u001b[0m \u001b[1m0s\u001b[0m 3ms/step - accuracy: 0.0059 - loss: 4.8184 - mean_squared_error: 4.8186 - val_accuracy: 0.0208 - val_loss: 5.6083 - val_mean_squared_error: 5.6083\n"
     ]
    }
   ],
   "source": [
    "tf.keras.backend.clear_session()\n",
    "model = tf.keras.Sequential([\n",
    "    tf.keras.layers.Dense(36, activation=\"relu\"),\n",
    "    tf.keras.layers.Dense(250, activation=\"relu\"),\n",
    "    tf.keras.layers.Dense(250, activation=\"relu\"),\n",
    "    tf.keras.layers.Dense(25, activation=\"relu\"),\n",
    "    tf.keras.layers.Dense(25, activation=\"relu\"),\n",
    "    tf.keras.layers.Dense(1, activation=\"linear\")\n",
    "])\n",
    "\n",
    "model.compile(loss='mean_squared_error',\n",
    "              optimizer=\"adam\",\n",
    "              metrics=[\"accuracy\", \"mean_squared_error\"])\n",
    "\n",
    "history = model.fit(reg_2019, spread_2019, epochs=10,\n",
    "                    validation_split = 0.3)\n"
   ]
  },
  {
   "cell_type": "markdown",
   "id": "53dd951c",
   "metadata": {},
   "source": [
    "model.evaluate(reg_2021, spread_2021)"
   ]
  },
  {
   "cell_type": "code",
   "execution_count": 152,
   "id": "65967a86",
   "metadata": {},
   "outputs": [
    {
     "data": {
      "image/png": "[encoded data removed]",
      "text/plain": [
       "<Figure size 640x480 with 1 Axes>"
      ]
     },
     "metadata": {},
     "output_type": "display_data"
    }
   ],
   "source": [
    "import matplotlib.pyplot as plt\n",
    "\n",
    "predictions = pd.DataFrame(model.predict(reg_2021).flatten())\n",
    "\n",
    "predicted_values = predictions\n",
    "observed_values = spread_2021\n",
    "\n",
    "\n",
    "# Plot histogram\n",
    "plt.hist(predicted_values, bins=40, label='Predicted', alpha=0.5)\n",
    "plt.hist(observed_values, bins=40, label='Observed', alpha=0.5)\n",
    "plt.xlabel('Values')\n",
    "plt.ylabel('Frequency')\n",
    "plt.title('Histogram of Predicted vs Observed Values')\n",
    "plt.legend()\n",
    "plt.show()"
   ]
  },
  {
   "cell_type": "code",
   "execution_count": null,
   "metadata": {},
   "outputs": [],
   "source": []
  }
 ],
 "metadata": {
  "kernelspec": {
   "display_name": "Python 3 (ipykernel)",
   "language": "python",
   "name": "python3"
  },
  "language_info": {
   "codemirror_mode": {
    "name": "ipython",
    "version": 3
   },
   "file_extension": ".py",
   "mimetype": "text/x-python",
   "name": "python",
   "nbconvert_exporter": "python",
   "pygments_lexer": "ipython3",
   "version": "3.10.13"
  }
 },
 "nbformat": 4,
 "nbformat_minor": 5
}
