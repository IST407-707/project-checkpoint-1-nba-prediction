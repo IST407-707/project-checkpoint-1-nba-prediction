{
 "cells": [
  {
   "cell_type": "code",
   "execution_count": 1,
   "id": "5f53862a-48a7-43fc-bb8a-42171000a6c1",
   "metadata": {
    "tags": []
   },
   "outputs": [],
   "source": [
    "# Bryce Testing"
   ]
  },
  {
   "cell_type": "code",
   "execution_count": 3,
   "id": "860d55c4-6b04-48dd-a6c8-b3586cfd4a8d",
   "metadata": {
    "tags": []
   },
   "outputs": [],
   "source": [
    "import pandas as pd \n",
    "import numpy as np \n",
    "from os import listdir as ls\n",
    "import tensorflow as tf\n",
    "from sklearn.decomposition import PCA\n",
    "from sklearn.pipeline import Pipeline"
   ]
  },
  {
   "cell_type": "code",
   "execution_count": 4,
   "id": "8837d52c-a64c-4cb8-99b6-e648c3bba243",
   "metadata": {
    "tags": []
   },
   "outputs": [],
   "source": [
    "v1 = pd.read_parquet('[2015, 2016]_game_stats.parquet.gzip')\n",
    "v2 = pd.read_parquet('[2017, 2018]_game_stats.parquet.gzip')\n",
    "v3 = pd.read_parquet('[2019, 2020]_game_stats.parquet.gzip')\n",
    "v4 = pd.read_parquet('[2021, 2022]_game_stats.parquet.gzip')\n",
    "season_reg = pd.concat([v1, v2, v3, v4], axis = 0)\n",
    "season_reg.to_csv(\"season_reg.csv\")\n",
    "teams = season_reg['home_team'].unique()\n",
    "arenas = season_reg['arena'].unique()"
   ]
  },
  {
   "cell_type": "code",
   "execution_count": 5,
   "id": "06f08551-d58f-4e6c-acf6-775a85f4f3bc",
   "metadata": {
    "tags": []
   },
   "outputs": [],
   "source": [
    "class OneHotEncoder:\n",
    "    def __init__(self, categories):\n",
    "        self.categories = categories\n",
    "        self.category_to_index = {category: i for i, category in enumerate(categories)}\n",
    "        self.num_categories = len(categories)\n",
    "\n",
    "    def encode(self, category):\n",
    "        if category not in self.category_to_index:\n",
    "            raise ValueError(f\"Category '{category}' not found in the provided categories.\")\n",
    "        else:\n",
    "            encoded_vector = np.zeros(self.num_categories, dtype=int)\n",
    "            encoded_vector[self.category_to_index[category]] = 1\n",
    "            return encoded_vector\n",
    "team_encoder = OneHotEncoder(teams)\n",
    "arena_encoder = OneHotEncoder(arenas)"
   ]
  },
  {
   "cell_type": "code",
   "execution_count": 6,
   "id": "06ca9af0-6897-4429-bed1-199f3b19d82a",
   "metadata": {
    "tags": []
   },
   "outputs": [],
   "source": [
    "#create a dictionary with season team and per list \n",
    "seasons_pers = pd.read_csv('seasons_per_s.csv')\n",
    "\n",
    "def get_top_n_pers(seasons_pers, n):\n",
    "    roster_pers = {}\n",
    "    for season in seasons_pers['season'].unique():\n",
    "        subset = seasons_pers[seasons_pers['season'] == season]\n",
    "        roster_pers[season] = {}\n",
    "        for team in teams:\n",
    "            team_subset = subset[subset['team_id'] ==  team]\n",
    "            team_subset = team_subset.sort_values(by='per', ascending=False)\n",
    "            roster_pers[season][team] = team_subset['per'].iloc[:n].values\n",
    "    return roster_pers\n",
    "\n",
    "rosters = get_top_n_pers(seasons_pers, 10)  # rosters[season][team]"
   ]
  },
  {
   "cell_type": "code",
   "execution_count": 7,
   "id": "b1ce092b-6c01-434a-9602-efbcedd8ffeb",
   "metadata": {
    "tags": []
   },
   "outputs": [],
   "source": [
    "# pipeline \n",
    "def get_season(season_string):\n",
    "    cleaned_reg_season = season_reg.copy()\n",
    "    columns = season_reg.columns\n",
    "    date_features = ['date']\n",
    "    string_features = [ 'home_team', 'away_team', 'arena']\n",
    "    numeric_features = [ c for c in columns if c not in string_features + date_features]\n",
    "    cleaned_reg_season[numeric_features] = cleaned_reg_season[numeric_features].apply(pd.to_numeric)\n",
    "    cleaned_reg_season[date_features] = cleaned_reg_season[date_features].apply(pd.to_datetime)\n",
    "    start_date, end_date = f'20{season_string[2:4]}-10',  f'20{season_string[-2:]}-04'\n",
    "    season = cleaned_reg_season[(cleaned_reg_season[\"date\"] >= start_date) & (cleaned_reg_season[\"date\"] <= end_date)]\n",
    "    return season\n",
    "\n",
    "def run_pca(season= '2019-20'):\n",
    "    season = get_season(season)\n",
    "    pca = PCA(n_components=30)\n",
    "    season_numeric = season.drop([\"date\", \"home_team\", \"away_team\", \"arena\"] , axis=1)\n",
    "    numeric_components = pca.fit(season_numeric)\n",
    "    return pca \n",
    "\n",
    "def pre_process(season, pca, data_all):\n",
    "    season_name = season\n",
    "    season = get_season(season)\n",
    "    #drop cloumns to perform pca \n",
    "    season_numeric = season.drop([\"date\", \"home_team\", \"away_team\", \"arena\"] , axis=1)\n",
    "    season_categorical = season[[\"date\", \"home_team\", \"away_team\", \"arena\"]]\n",
    "    numeric_components = pca.transform(season_numeric)\n",
    "    spread = pd.DataFrame(season_numeric[\"home_pts\"] - season_numeric[\"away_pts\"],  columns= [\"spread\"])\n",
    "    if data_all == True:\n",
    "        # one hot encoded teams \n",
    "        home_team = season_categorical['home_team'].apply(team_encoder.encode)\n",
    "        away_team = season_categorical['away_team'].apply(team_encoder.encode)\n",
    "        # one hot encoded arena\n",
    "        arena = season_categorical['arena'].apply(arena_encoder.encode) \n",
    "        # get top n player pers\n",
    "        top_n = 10\n",
    "        home_pers= season_categorical['home_team'].map(lambda team: rosters[season_name].get(team))\n",
    "        away_pers= season_categorical['away_team'].map(lambda team: rosters[season_name].get(team))\n",
    "        \n",
    "        return pd.concat([home_pers, home_team, season_numeric, arena, away_team, away_pers] , axis= 1).values, spread.values\n",
    "    else:\n",
    "        return numeric_components, spread.values"
   ]
  },
  {
   "cell_type": "code",
   "execution_count": 8,
   "id": "0032df77-9141-44e6-b4ab-7d5974c12427",
   "metadata": {
    "tags": []
   },
   "outputs": [
    {
     "data": {
      "text/plain": [
       "(971, 30)"
      ]
     },
     "execution_count": 8,
     "metadata": {},
     "output_type": "execute_result"
    }
   ],
   "source": [
    "pca = run_pca('2019-20')\n",
    "\n",
    "x_2020, y_2020= pre_process('2019-20', pca, data_all=False)\n",
    "x_2021, y_2021= pre_process('2020-21', pca, data_all=False)\n",
    "\n",
    "# x_2020, y_2020= pre_process('2019-20', pca, data_all=True)\n",
    "# x_2021, y_2021= pre_process('2020-21', pca, data_all=True)\n",
    "\n",
    "x_2020.shape"
   ]
  },
  {
   "cell_type": "code",
   "execution_count": 12,
   "id": "a7325470-e814-47cf-a32d-40ba7afea472",
   "metadata": {},
   "outputs": [
    {
     "name": "stdout",
     "output_type": "stream",
     "text": [
      "Model: \"sequential\"\n",
      "_________________________________________________________________\n",
      " Layer (type)                Output Shape              Param #   \n",
      "=================================================================\n",
      " dense (Dense)               (None, 36)                1116      \n",
      "                                                                 \n",
      " dense_1 (Dense)             (None, 250)               9250      \n",
      "                                                                 \n",
      " dense_2 (Dense)             (None, 250)               62750     \n",
      "                                                                 \n",
      " dense_3 (Dense)             (None, 25)                6275      \n",
      "                                                                 \n",
      " dense_4 (Dense)             (None, 25)                650       \n",
      "                                                                 \n",
      " dense_5 (Dense)             (None, 1)                 26        \n",
      "                                                                 \n",
      "=================================================================\n",
      "Total params: 80067 (312.76 KB)\n",
      "Trainable params: 80067 (312.76 KB)\n",
      "Non-trainable params: 0 (0.00 Byte)\n",
      "_________________________________________________________________\n"
     ]
    }
   ],
   "source": [
    "tf.keras.backend.clear_session()\n",
    "model = tf.keras.Sequential([\n",
    "    tf.keras.layers.Dense(36, activation=\"relu\"),\n",
    "    tf.keras.layers.Dense(250, activation=\"relu\"),\n",
    "    tf.keras.layers.Dense(250, activation=\"relu\"),\n",
    "    tf.keras.layers.Dense(25, activation=\"relu\"),\n",
    "    tf.keras.layers.Dense(25, activation=\"relu\"),\n",
    "    tf.keras.layers.Dense(1, activation=\"linear\")\n",
    "])\n",
    "\n",
    "model.compile(loss='mean_squared_error',\n",
    "              optimizer=\"adam\",\n",
    "              metrics=[\"accuracy\", \"mean_squared_error\"])\n",
    "\n",
    "model.build(input_shape=(None, 30)) \n",
    "\n",
    "model.summary()"
   ]
  },
  {
   "cell_type": "code",
   "execution_count": null,
   "id": "db88e282-5d3f-4a86-88f5-54e04ab917a1",
   "metadata": {
    "tags": []
   },
   "outputs": [
    {
     "name": "stdout",
     "output_type": "stream",
     "text": [
      "Epoch 1/10\n"
     ]
    }
   ],
   "source": [
    "history = model.fit(x_2020, y_2020, epochs=10,\n",
    "                    validation_split = 0.3)"
   ]
  },
  {
   "cell_type": "code",
   "execution_count": null,
   "id": "b6f66fe0-a9f7-497f-aad6-edd9dcf1ca59",
   "metadata": {
    "tags": []
   },
   "outputs": [],
   "source": [
    "import matplotlib.pyplot as plt\n",
    "\n",
    "predictions = pd.DataFrame(model.predict(reg_2021).flatten())\n",
    "\n",
    "predicted_values = predictions\n",
    "observed_values = spread_2021\n",
    "\n",
    "\n",
    "# Plot histogram\n",
    "plt.hist(predicted_values, bins=40, label='Predicted', alpha=0.5)\n",
    "plt.hist(observed_values, bins=40, label='Observed', alpha=0.5)\n",
    "plt.xlabel('Values')\n",
    "plt.ylabel('Frequency')\n",
    "plt.title('Histogram of Predicted vs Observed Values')\n",
    "plt.legend()\n",
    "plt.show()"
   ]
  }
 ],
 "metadata": {
  "kernelspec": {
   "display_name": "Python 3 (ipykernel)",
   "language": "python",
   "name": "python3"
  },
  "language_info": {
   "codemirror_mode": {
    "name": "ipython",
    "version": 3
   },
   "file_extension": ".py",
   "mimetype": "text/x-python",
   "name": "python",
   "nbconvert_exporter": "python",
   "pygments_lexer": "ipython3",
   "version": "3.11.4"
  }
 },
 "nbformat": 4,
 "nbformat_minor": 5
}
