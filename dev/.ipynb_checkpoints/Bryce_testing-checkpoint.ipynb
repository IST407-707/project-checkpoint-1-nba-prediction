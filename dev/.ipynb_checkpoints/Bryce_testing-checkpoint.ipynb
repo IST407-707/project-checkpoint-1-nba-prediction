{
 "cells": [
  {
   "cell_type": "code",
   "execution_count": 1,
   "id": "5f53862a-48a7-43fc-bb8a-42171000a6c1",
   "metadata": {
    "tags": []
   },
   "outputs": [],
   "source": [
    "# Bryce Testing"
   ]
  },
  {
   "cell_type": "code",
   "execution_count": 2,
   "id": "860d55c4-6b04-48dd-a6c8-b3586cfd4a8d",
   "metadata": {
    "tags": []
   },
   "outputs": [],
   "source": [
    "import pandas as pd \n",
    "import numpy as np \n",
    "from os import listdir as ls\n",
    "import tensorflow as tf\n",
    "from sklearn.decomposition import PCA\n",
    "from sklearn.pipeline import Pipeline\n",
    "import warnings"
   ]
  },
  {
   "cell_type": "code",
   "execution_count": 3,
   "id": "8837d52c-a64c-4cb8-99b6-e648c3bba243",
   "metadata": {
    "tags": []
   },
   "outputs": [],
   "source": [
    "v1 = pd.read_parquet('[2015, 2016]_game_stats.parquet.gzip')\n",
    "v2 = pd.read_parquet('[2017, 2018]_game_stats.parquet.gzip')\n",
    "v3 = pd.read_parquet('[2019, 2020]_game_stats.parquet.gzip')\n",
    "v4 = pd.read_parquet('[2021, 2022]_game_stats.parquet.gzip')\n",
    "season_reg = pd.concat([v1, v2, v3, v4], axis = 0)\n",
    "season_reg.to_csv(\"season_reg.csv\")\n",
    "teams = season_reg['home_team'].unique()\n",
    "arenas = season_reg['arena'].unique()"
   ]
  },
  {
   "cell_type": "code",
   "execution_count": 4,
   "id": "06f08551-d58f-4e6c-acf6-775a85f4f3bc",
   "metadata": {
    "tags": []
   },
   "outputs": [],
   "source": [
    "class OneHotEncoder:\n",
    "    def __init__(self, categories):\n",
    "        self.categories = categories\n",
    "        self.category_to_index = {category: i for i, category in enumerate(categories)}\n",
    "        self.num_categories = len(categories)\n",
    "\n",
    "    def encode(self, category):\n",
    "        if category not in self.category_to_index:\n",
    "            raise ValueError(f\"Category '{category}' not found in the provided categories.\")\n",
    "        else:\n",
    "            encoded_vector = np.zeros(self.num_categories, dtype=int)\n",
    "            encoded_vector[self.category_to_index[category]] = 1\n",
    "            return encoded_vector\n",
    "team_encoder = OneHotEncoder(teams)\n",
    "arena_encoder = OneHotEncoder(arenas)"
   ]
  },
  {
   "cell_type": "code",
   "execution_count": 5,
   "id": "06ca9af0-6897-4429-bed1-199f3b19d82a",
   "metadata": {
    "tags": []
   },
   "outputs": [],
   "source": [
    "#create a dictionary with season team and per list \n",
    "seasons_pers = pd.read_csv('seasons_per_s.csv')\n",
    "\n",
    "def get_top_n_pers(seasons_pers, n): # can adjust to get pers of past seasonm on the new seasons roster\n",
    "    roster_pers = {}\n",
    "    for season in seasons_pers['season'].unique():\n",
    "        subset = seasons_pers[seasons_pers['season'] == season]\n",
    "        roster_pers[season] = {}\n",
    "        for team in teams:\n",
    "            team_subset = subset[subset['team_id'] ==  team]\n",
    "            team_subset = team_subset.sort_values(by='per', ascending=False)\n",
    "            roster_pers[season][team] = np.float16(team_subset['per'].iloc[:n]).flatten()\n",
    "    return roster_pers\n",
    "\n",
    "rosters = get_top_n_pers(seasons_pers, 10)  # rosters[season][team]"
   ]
  },
  {
   "cell_type": "code",
   "execution_count": 61,
   "id": "b1ce092b-6c01-434a-9602-efbcedd8ffeb",
   "metadata": {
    "tags": []
   },
   "outputs": [],
   "source": [
    "# pipeline \n",
    "def get_season(season_string):\n",
    "    cleaned_reg_season = season_reg.copy()\n",
    "    columns = season_reg.columns\n",
    "    date_features = ['date']\n",
    "    string_features = [ 'home_team', 'away_team', 'arena']\n",
    "    numeric_features = [ c for c in columns if c not in string_features + date_features]\n",
    "    cleaned_reg_season[numeric_features] = cleaned_reg_season[numeric_features].apply(pd.to_numeric)\n",
    "    cleaned_reg_season[date_features] = cleaned_reg_season[date_features].apply(pd.to_datetime)\n",
    "    start_date, end_date = f'20{season_string[2:4]}-10',  f'20{season_string[-2:]}-04'\n",
    "    season = cleaned_reg_season[(cleaned_reg_season[\"date\"] >= start_date) & (cleaned_reg_season[\"date\"] <= end_date)]\n",
    "    return season\n",
    "\n",
    "def run_pca(season= '2019-20'):\n",
    "    season = get_season(season)\n",
    "    pca = PCA(n_components=30)\n",
    "    season_numeric = season.drop([\"date\", \"home_team\", \"away_team\", \"arena\"] , axis=1)\n",
    "    numeric_components = pca.fit(season_numeric)\n",
    "    return pca \n",
    "\n",
    "def pre_process(season, pca, data_all):\n",
    "    season_name = season\n",
    "    season = get_season(season)\n",
    "    #drop cloumns to perform pca \n",
    "    season_numeric = season.drop([\"date\", \"home_team\", \"away_team\", \"arena\"] , axis=1)\n",
    "    season_categorical = season[[\"date\", \"home_team\", \"away_team\", \"arena\"]]\n",
    "    numeric_components = np.array(pca.transform(season_numeric), dtype=np.float64)\n",
    "    spread = np.int8(season_numeric[\"home_pts\"] - season_numeric[\"away_pts\"])\n",
    "    if data_all == True:\n",
    "        # one hot encoded teams\n",
    "        home_team = []\n",
    "        away_team = []\n",
    "        arena = []\n",
    "        home_pers = []\n",
    "        away_pers = []\n",
    "        for index, row in season_categorical.iterrows():\n",
    "            # print(row[1], row[2], row[3])\n",
    "            home_team.append(team_encoder.encode(row.iloc[1]))\n",
    "            away_team.append(team_encoder.encode(row.iloc[2]))\n",
    "            arena.append(arena_encoder.encode(row.iloc[3]))\n",
    "            # get top n player pers\n",
    "            top_n = 10\n",
    "            if season_name == '2014-15':\n",
    "                raise Exception('cannot train on games in 2014-15 season, start with the 2015-16 season instead')\n",
    "            else: \n",
    "                start = int(season_name[0:4])-1\n",
    "                end = int(season_name[-2:])-1\n",
    "                prior_season_name = f'{start}-{end}'\n",
    "            home_pers.append(rosters[prior_season_name][row.iloc[1]])\n",
    "            away_pers.append(rosters[prior_season_name][row.iloc[2]])\n",
    "\n",
    "        \n",
    "        return {'home_per_input': tf.convert_to_tensor(home_pers[:-1]),\n",
    "       'home_team_input': tf.convert_to_tensor(home_team[:-1]),\n",
    "       'season_pca_input': tf.convert_to_tensor(numeric_components[:-1]),\n",
    "       'arena_input': tf.convert_to_tensor(arena[:-1]),\n",
    "       'away_team_input': tf.convert_to_tensor(away_team[:-1]),\n",
    "       'away_per_input': tf.convert_to_tensor(away_pers[:-1])}, tf.convert_to_tensor(spread[1:])\n",
    "    else:\n",
    "        return numeric_components, spread"
   ]
  },
  {
   "cell_type": "code",
   "execution_count": 62,
   "id": "0032df77-9141-44e6-b4ab-7d5974c12427",
   "metadata": {
    "tags": []
   },
   "outputs": [],
   "source": [
    "pca = run_pca('2015-16')\n",
    "\n",
    "# x_2020, y_2020= pre_process('2019-20', pca, data_all=False)\n",
    "# x_2021, y_2021= pre_process('2020-21', pca, data_all=False)\n",
    "\n",
    "x_2016, y_2016= pre_process('2015-16', pca, data_all=True)\n",
    "\n",
    "x_2017, y_2017= pre_process('2016-17', pca, data_all=True)"
   ]
  },
  {
   "cell_type": "code",
   "execution_count": 63,
   "id": "e69254d1-9aa6-4236-8a06-0330d642d52b",
   "metadata": {},
   "outputs": [
    {
     "data": {
      "text/plain": [
       "[2, 3, 4, 5, 6]"
      ]
     },
     "execution_count": 63,
     "metadata": {},
     "output_type": "execute_result"
    }
   ],
   "source": [
    "# regression model \n",
    "games = [1, 2, 3, 4, 5, 6] #games remove last game \n",
    "scores = [1 ,2, 3, 4, 5, 6] #scores remove 1st score \n",
    "games[:-1]\n",
    "scores[1:]\n"
   ]
  },
  {
   "cell_type": "code",
   "execution_count": 64,
   "id": "a7325470-e814-47cf-a32d-40ba7afea472",
   "metadata": {},
   "outputs": [
    {
     "data": {
      "text/html": [
       "<pre style=\"white-space:pre;overflow-x:auto;line-height:normal;font-family:Menlo,'DejaVu Sans Mono',consolas,'Courier New',monospace\"><span style=\"font-weight: bold\">Model: \"functional_1\"</span>\n",
       "</pre>\n"
      ],
      "text/plain": [
       "\u001b[1mModel: \"functional_1\"\u001b[0m\n"
      ]
     },
     "metadata": {},
     "output_type": "display_data"
    },
    {
     "data": {
      "text/html": [
       "<pre style=\"white-space:pre;overflow-x:auto;line-height:normal;font-family:Menlo,'DejaVu Sans Mono',consolas,'Courier New',monospace\">┏━━━━━━━━━━━━━━━━━━━━━┳━━━━━━━━━━━━━━━━━━━┳━━━━━━━━━━━━┳━━━━━━━━━━━━━━━━━━━┓\n",
       "┃<span style=\"font-weight: bold\"> Layer (type)        </span>┃<span style=\"font-weight: bold\"> Output Shape      </span>┃<span style=\"font-weight: bold\">    Param # </span>┃<span style=\"font-weight: bold\"> Connected to      </span>┃\n",
       "┡━━━━━━━━━━━━━━━━━━━━━╇━━━━━━━━━━━━━━━━━━━╇━━━━━━━━━━━━╇━━━━━━━━━━━━━━━━━━━┩\n",
       "│ home_per_input      │ (<span style=\"color: #00d7ff; text-decoration-color: #00d7ff\">None</span>, <span style=\"color: #00af00; text-decoration-color: #00af00\">10</span>)        │          <span style=\"color: #00af00; text-decoration-color: #00af00\">0</span> │ -                 │\n",
       "│ (<span style=\"color: #0087ff; text-decoration-color: #0087ff\">InputLayer</span>)        │                   │            │                   │\n",
       "├─────────────────────┼───────────────────┼────────────┼───────────────────┤\n",
       "│ home_team_input     │ (<span style=\"color: #00d7ff; text-decoration-color: #00d7ff\">None</span>, <span style=\"color: #00af00; text-decoration-color: #00af00\">30</span>)        │          <span style=\"color: #00af00; text-decoration-color: #00af00\">0</span> │ -                 │\n",
       "│ (<span style=\"color: #0087ff; text-decoration-color: #0087ff\">InputLayer</span>)        │                   │            │                   │\n",
       "├─────────────────────┼───────────────────┼────────────┼───────────────────┤\n",
       "│ season_pca_input    │ (<span style=\"color: #00d7ff; text-decoration-color: #00d7ff\">None</span>, <span style=\"color: #00af00; text-decoration-color: #00af00\">30</span>)        │          <span style=\"color: #00af00; text-decoration-color: #00af00\">0</span> │ -                 │\n",
       "│ (<span style=\"color: #0087ff; text-decoration-color: #0087ff\">InputLayer</span>)        │                   │            │                   │\n",
       "├─────────────────────┼───────────────────┼────────────┼───────────────────┤\n",
       "│ arena_input         │ (<span style=\"color: #00d7ff; text-decoration-color: #00d7ff\">None</span>, <span style=\"color: #00af00; text-decoration-color: #00af00\">51</span>)        │          <span style=\"color: #00af00; text-decoration-color: #00af00\">0</span> │ -                 │\n",
       "│ (<span style=\"color: #0087ff; text-decoration-color: #0087ff\">InputLayer</span>)        │                   │            │                   │\n",
       "├─────────────────────┼───────────────────┼────────────┼───────────────────┤\n",
       "│ away_team_input     │ (<span style=\"color: #00d7ff; text-decoration-color: #00d7ff\">None</span>, <span style=\"color: #00af00; text-decoration-color: #00af00\">30</span>)        │          <span style=\"color: #00af00; text-decoration-color: #00af00\">0</span> │ -                 │\n",
       "│ (<span style=\"color: #0087ff; text-decoration-color: #0087ff\">InputLayer</span>)        │                   │            │                   │\n",
       "├─────────────────────┼───────────────────┼────────────┼───────────────────┤\n",
       "│ away_per_input      │ (<span style=\"color: #00d7ff; text-decoration-color: #00d7ff\">None</span>, <span style=\"color: #00af00; text-decoration-color: #00af00\">10</span>)        │          <span style=\"color: #00af00; text-decoration-color: #00af00\">0</span> │ -                 │\n",
       "│ (<span style=\"color: #0087ff; text-decoration-color: #0087ff\">InputLayer</span>)        │                   │            │                   │\n",
       "├─────────────────────┼───────────────────┼────────────┼───────────────────┤\n",
       "│ concatenate         │ (<span style=\"color: #00d7ff; text-decoration-color: #00d7ff\">None</span>, <span style=\"color: #00af00; text-decoration-color: #00af00\">161</span>)       │          <span style=\"color: #00af00; text-decoration-color: #00af00\">0</span> │ home_per_input[<span style=\"color: #00af00; text-decoration-color: #00af00\">0</span>… │\n",
       "│ (<span style=\"color: #0087ff; text-decoration-color: #0087ff\">Concatenate</span>)       │                   │            │ home_team_input[<span style=\"color: #00af00; text-decoration-color: #00af00\">…</span> │\n",
       "│                     │                   │            │ season_pca_input… │\n",
       "│                     │                   │            │ arena_input[<span style=\"color: #00af00; text-decoration-color: #00af00\">0</span>][<span style=\"color: #00af00; text-decoration-color: #00af00\">0</span>… │\n",
       "│                     │                   │            │ away_team_input[<span style=\"color: #00af00; text-decoration-color: #00af00\">…</span> │\n",
       "│                     │                   │            │ away_per_input[<span style=\"color: #00af00; text-decoration-color: #00af00\">0</span>… │\n",
       "├─────────────────────┼───────────────────┼────────────┼───────────────────┤\n",
       "│ dense (<span style=\"color: #0087ff; text-decoration-color: #0087ff\">Dense</span>)       │ (<span style=\"color: #00d7ff; text-decoration-color: #00d7ff\">None</span>, <span style=\"color: #00af00; text-decoration-color: #00af00\">161</span>)       │     <span style=\"color: #00af00; text-decoration-color: #00af00\">26,082</span> │ concatenate[<span style=\"color: #00af00; text-decoration-color: #00af00\">0</span>][<span style=\"color: #00af00; text-decoration-color: #00af00\">0</span>] │\n",
       "├─────────────────────┼───────────────────┼────────────┼───────────────────┤\n",
       "│ dense_1 (<span style=\"color: #0087ff; text-decoration-color: #0087ff\">Dense</span>)     │ (<span style=\"color: #00d7ff; text-decoration-color: #00d7ff\">None</span>, <span style=\"color: #00af00; text-decoration-color: #00af00\">200</span>)       │     <span style=\"color: #00af00; text-decoration-color: #00af00\">32,400</span> │ dense[<span style=\"color: #00af00; text-decoration-color: #00af00\">0</span>][<span style=\"color: #00af00; text-decoration-color: #00af00\">0</span>]       │\n",
       "├─────────────────────┼───────────────────┼────────────┼───────────────────┤\n",
       "│ dense_2 (<span style=\"color: #0087ff; text-decoration-color: #0087ff\">Dense</span>)     │ (<span style=\"color: #00d7ff; text-decoration-color: #00d7ff\">None</span>, <span style=\"color: #00af00; text-decoration-color: #00af00\">200</span>)       │     <span style=\"color: #00af00; text-decoration-color: #00af00\">40,200</span> │ dense_1[<span style=\"color: #00af00; text-decoration-color: #00af00\">0</span>][<span style=\"color: #00af00; text-decoration-color: #00af00\">0</span>]     │\n",
       "├─────────────────────┼───────────────────┼────────────┼───────────────────┤\n",
       "│ dense_3 (<span style=\"color: #0087ff; text-decoration-color: #0087ff\">Dense</span>)     │ (<span style=\"color: #00d7ff; text-decoration-color: #00d7ff\">None</span>, <span style=\"color: #00af00; text-decoration-color: #00af00\">25</span>)        │      <span style=\"color: #00af00; text-decoration-color: #00af00\">5,025</span> │ dense_2[<span style=\"color: #00af00; text-decoration-color: #00af00\">0</span>][<span style=\"color: #00af00; text-decoration-color: #00af00\">0</span>]     │\n",
       "├─────────────────────┼───────────────────┼────────────┼───────────────────┤\n",
       "│ dense_4 (<span style=\"color: #0087ff; text-decoration-color: #0087ff\">Dense</span>)     │ (<span style=\"color: #00d7ff; text-decoration-color: #00d7ff\">None</span>, <span style=\"color: #00af00; text-decoration-color: #00af00\">25</span>)        │        <span style=\"color: #00af00; text-decoration-color: #00af00\">650</span> │ dense_3[<span style=\"color: #00af00; text-decoration-color: #00af00\">0</span>][<span style=\"color: #00af00; text-decoration-color: #00af00\">0</span>]     │\n",
       "├─────────────────────┼───────────────────┼────────────┼───────────────────┤\n",
       "│ dense_5 (<span style=\"color: #0087ff; text-decoration-color: #0087ff\">Dense</span>)     │ (<span style=\"color: #00d7ff; text-decoration-color: #00d7ff\">None</span>, <span style=\"color: #00af00; text-decoration-color: #00af00\">1</span>)         │         <span style=\"color: #00af00; text-decoration-color: #00af00\">26</span> │ dense_4[<span style=\"color: #00af00; text-decoration-color: #00af00\">0</span>][<span style=\"color: #00af00; text-decoration-color: #00af00\">0</span>]     │\n",
       "└─────────────────────┴───────────────────┴────────────┴───────────────────┘\n",
       "</pre>\n"
      ],
      "text/plain": [
       "┏━━━━━━━━━━━━━━━━━━━━━┳━━━━━━━━━━━━━━━━━━━┳━━━━━━━━━━━━┳━━━━━━━━━━━━━━━━━━━┓\n",
       "┃\u001b[1m \u001b[0m\u001b[1mLayer (type)       \u001b[0m\u001b[1m \u001b[0m┃\u001b[1m \u001b[0m\u001b[1mOutput Shape     \u001b[0m\u001b[1m \u001b[0m┃\u001b[1m \u001b[0m\u001b[1m   Param #\u001b[0m\u001b[1m \u001b[0m┃\u001b[1m \u001b[0m\u001b[1mConnected to     \u001b[0m\u001b[1m \u001b[0m┃\n",
       "┡━━━━━━━━━━━━━━━━━━━━━╇━━━━━━━━━━━━━━━━━━━╇━━━━━━━━━━━━╇━━━━━━━━━━━━━━━━━━━┩\n",
       "│ home_per_input      │ (\u001b[38;5;45mNone\u001b[0m, \u001b[38;5;34m10\u001b[0m)        │          \u001b[38;5;34m0\u001b[0m │ -                 │\n",
       "│ (\u001b[38;5;33mInputLayer\u001b[0m)        │                   │            │                   │\n",
       "├─────────────────────┼───────────────────┼────────────┼───────────────────┤\n",
       "│ home_team_input     │ (\u001b[38;5;45mNone\u001b[0m, \u001b[38;5;34m30\u001b[0m)        │          \u001b[38;5;34m0\u001b[0m │ -                 │\n",
       "│ (\u001b[38;5;33mInputLayer\u001b[0m)        │                   │            │                   │\n",
       "├─────────────────────┼───────────────────┼────────────┼───────────────────┤\n",
       "│ season_pca_input    │ (\u001b[38;5;45mNone\u001b[0m, \u001b[38;5;34m30\u001b[0m)        │          \u001b[38;5;34m0\u001b[0m │ -                 │\n",
       "│ (\u001b[38;5;33mInputLayer\u001b[0m)        │                   │            │                   │\n",
       "├─────────────────────┼───────────────────┼────────────┼───────────────────┤\n",
       "│ arena_input         │ (\u001b[38;5;45mNone\u001b[0m, \u001b[38;5;34m51\u001b[0m)        │          \u001b[38;5;34m0\u001b[0m │ -                 │\n",
       "│ (\u001b[38;5;33mInputLayer\u001b[0m)        │                   │            │                   │\n",
       "├─────────────────────┼───────────────────┼────────────┼───────────────────┤\n",
       "│ away_team_input     │ (\u001b[38;5;45mNone\u001b[0m, \u001b[38;5;34m30\u001b[0m)        │          \u001b[38;5;34m0\u001b[0m │ -                 │\n",
       "│ (\u001b[38;5;33mInputLayer\u001b[0m)        │                   │            │                   │\n",
       "├─────────────────────┼───────────────────┼────────────┼───────────────────┤\n",
       "│ away_per_input      │ (\u001b[38;5;45mNone\u001b[0m, \u001b[38;5;34m10\u001b[0m)        │          \u001b[38;5;34m0\u001b[0m │ -                 │\n",
       "│ (\u001b[38;5;33mInputLayer\u001b[0m)        │                   │            │                   │\n",
       "├─────────────────────┼───────────────────┼────────────┼───────────────────┤\n",
       "│ concatenate         │ (\u001b[38;5;45mNone\u001b[0m, \u001b[38;5;34m161\u001b[0m)       │          \u001b[38;5;34m0\u001b[0m │ home_per_input[\u001b[38;5;34m0\u001b[0m… │\n",
       "│ (\u001b[38;5;33mConcatenate\u001b[0m)       │                   │            │ home_team_input[\u001b[38;5;34m…\u001b[0m │\n",
       "│                     │                   │            │ season_pca_input… │\n",
       "│                     │                   │            │ arena_input[\u001b[38;5;34m0\u001b[0m][\u001b[38;5;34m0\u001b[0m… │\n",
       "│                     │                   │            │ away_team_input[\u001b[38;5;34m…\u001b[0m │\n",
       "│                     │                   │            │ away_per_input[\u001b[38;5;34m0\u001b[0m… │\n",
       "├─────────────────────┼───────────────────┼────────────┼───────────────────┤\n",
       "│ dense (\u001b[38;5;33mDense\u001b[0m)       │ (\u001b[38;5;45mNone\u001b[0m, \u001b[38;5;34m161\u001b[0m)       │     \u001b[38;5;34m26,082\u001b[0m │ concatenate[\u001b[38;5;34m0\u001b[0m][\u001b[38;5;34m0\u001b[0m] │\n",
       "├─────────────────────┼───────────────────┼────────────┼───────────────────┤\n",
       "│ dense_1 (\u001b[38;5;33mDense\u001b[0m)     │ (\u001b[38;5;45mNone\u001b[0m, \u001b[38;5;34m200\u001b[0m)       │     \u001b[38;5;34m32,400\u001b[0m │ dense[\u001b[38;5;34m0\u001b[0m][\u001b[38;5;34m0\u001b[0m]       │\n",
       "├─────────────────────┼───────────────────┼────────────┼───────────────────┤\n",
       "│ dense_2 (\u001b[38;5;33mDense\u001b[0m)     │ (\u001b[38;5;45mNone\u001b[0m, \u001b[38;5;34m200\u001b[0m)       │     \u001b[38;5;34m40,200\u001b[0m │ dense_1[\u001b[38;5;34m0\u001b[0m][\u001b[38;5;34m0\u001b[0m]     │\n",
       "├─────────────────────┼───────────────────┼────────────┼───────────────────┤\n",
       "│ dense_3 (\u001b[38;5;33mDense\u001b[0m)     │ (\u001b[38;5;45mNone\u001b[0m, \u001b[38;5;34m25\u001b[0m)        │      \u001b[38;5;34m5,025\u001b[0m │ dense_2[\u001b[38;5;34m0\u001b[0m][\u001b[38;5;34m0\u001b[0m]     │\n",
       "├─────────────────────┼───────────────────┼────────────┼───────────────────┤\n",
       "│ dense_4 (\u001b[38;5;33mDense\u001b[0m)     │ (\u001b[38;5;45mNone\u001b[0m, \u001b[38;5;34m25\u001b[0m)        │        \u001b[38;5;34m650\u001b[0m │ dense_3[\u001b[38;5;34m0\u001b[0m][\u001b[38;5;34m0\u001b[0m]     │\n",
       "├─────────────────────┼───────────────────┼────────────┼───────────────────┤\n",
       "│ dense_5 (\u001b[38;5;33mDense\u001b[0m)     │ (\u001b[38;5;45mNone\u001b[0m, \u001b[38;5;34m1\u001b[0m)         │         \u001b[38;5;34m26\u001b[0m │ dense_4[\u001b[38;5;34m0\u001b[0m][\u001b[38;5;34m0\u001b[0m]     │\n",
       "└─────────────────────┴───────────────────┴────────────┴───────────────────┘\n"
      ]
     },
     "metadata": {},
     "output_type": "display_data"
    },
    {
     "data": {
      "text/html": [
       "<pre style=\"white-space:pre;overflow-x:auto;line-height:normal;font-family:Menlo,'DejaVu Sans Mono',consolas,'Courier New',monospace\"><span style=\"font-weight: bold\"> Total params: </span><span style=\"color: #00af00; text-decoration-color: #00af00\">104,383</span> (407.75 KB)\n",
       "</pre>\n"
      ],
      "text/plain": [
       "\u001b[1m Total params: \u001b[0m\u001b[38;5;34m104,383\u001b[0m (407.75 KB)\n"
      ]
     },
     "metadata": {},
     "output_type": "display_data"
    },
    {
     "data": {
      "text/html": [
       "<pre style=\"white-space:pre;overflow-x:auto;line-height:normal;font-family:Menlo,'DejaVu Sans Mono',consolas,'Courier New',monospace\"><span style=\"font-weight: bold\"> Trainable params: </span><span style=\"color: #00af00; text-decoration-color: #00af00\">104,383</span> (407.75 KB)\n",
       "</pre>\n"
      ],
      "text/plain": [
       "\u001b[1m Trainable params: \u001b[0m\u001b[38;5;34m104,383\u001b[0m (407.75 KB)\n"
      ]
     },
     "metadata": {},
     "output_type": "display_data"
    },
    {
     "data": {
      "text/html": [
       "<pre style=\"white-space:pre;overflow-x:auto;line-height:normal;font-family:Menlo,'DejaVu Sans Mono',consolas,'Courier New',monospace\"><span style=\"font-weight: bold\"> Non-trainable params: </span><span style=\"color: #00af00; text-decoration-color: #00af00\">0</span> (0.00 B)\n",
       "</pre>\n"
      ],
      "text/plain": [
       "\u001b[1m Non-trainable params: \u001b[0m\u001b[38;5;34m0\u001b[0m (0.00 B)\n"
      ]
     },
     "metadata": {},
     "output_type": "display_data"
    }
   ],
   "source": [
    "# Define input layers for each input\n",
    "home_per_input = tf.keras.Input(shape=(10,), name='home_per_input')\n",
    "home_team_input = tf.keras.Input(shape=(30,), name='home_team_input')\n",
    "season_pca_input = tf.keras.Input(shape=(30,), name='season_pca_input')\n",
    "arena_input = tf.keras.Input(shape=(51,), name='arena_input')\n",
    "away_team_input = tf.keras.Input(shape=(30,), name='away_team_input')\n",
    "away_per_input = tf.keras.Input(shape=(10,), name='away_per_input')\n",
    "\n",
    "# Concatenate or merge the inputs\n",
    "concatenated_inputs = tf.keras.layers.concatenate([home_per_input, home_team_input, season_pca_input, arena_input, away_team_input, away_per_input])\n",
    "\n",
    "# Define the rest of your model architecture\n",
    "h1 = tf.keras.layers.Dense(161, activation=\"relu\")(concatenated_inputs)\n",
    "h2 = tf.keras.layers.Dense(200, activation=\"relu\")(h1)\n",
    "h3 = tf.keras.layers.Dense(200, activation=\"relu\")(h2)\n",
    "h4 = tf.keras.layers.Dense(25, activation=\"relu\")(h3)\n",
    "h5 = tf.keras.layers.Dense(25, activation=\"relu\")(h4)\n",
    "output = tf.keras.layers.Dense(1, activation=\"linear\")(h5)\n",
    "\n",
    "# Create the model\n",
    "bigger_model = tf.keras.Model(inputs=[home_per_input, home_team_input, season_pca_input, arena_input, away_team_input, away_per_input], outputs=output)\n",
    "\n",
    "# Compile the model\n",
    "bigger_model.compile(loss='mean_squared_error', optimizer=\"adam\", metrics=[\"accuracy\", \"mean_squared_error\"])\n",
    "\n",
    "# Print the model summary\n",
    "bigger_model.summary()\n",
    "tf.keras.backend.clear_session()"
   ]
  },
  {
   "cell_type": "code",
   "execution_count": 65,
   "id": "db88e282-5d3f-4a86-88f5-54e04ab917a1",
   "metadata": {
    "tags": []
   },
   "outputs": [
    {
     "name": "stdout",
     "output_type": "stream",
     "text": [
      "Epoch 1/10\n",
      "\u001b[1m25/25\u001b[0m \u001b[32m━━━━━━━━━━━━━━━━━━━━\u001b[0m\u001b[37m\u001b[0m \u001b[1m1s\u001b[0m 4ms/step - accuracy: 0.0117 - loss: 164.5963 - mean_squared_error: 164.6001 - val_accuracy: 0.0147 - val_loss: 184.7770 - val_mean_squared_error: 183.2812\n",
      "Epoch 2/10\n",
      "\u001b[1m25/25\u001b[0m \u001b[32m━━━━━━━━━━━━━━━━━━━━\u001b[0m\u001b[37m\u001b[0m \u001b[1m0s\u001b[0m 2ms/step - accuracy: 0.0054 - loss: 171.0098 - mean_squared_error: 171.0009 - val_accuracy: 0.0147 - val_loss: 185.2669 - val_mean_squared_error: 183.8498\n",
      "Epoch 3/10\n",
      "\u001b[1m25/25\u001b[0m \u001b[32m━━━━━━━━━━━━━━━━━━━━\u001b[0m\u001b[37m\u001b[0m \u001b[1m0s\u001b[0m 2ms/step - accuracy: 0.0099 - loss: 167.2239 - mean_squared_error: 167.2266 - val_accuracy: 0.0147 - val_loss: 184.8425 - val_mean_squared_error: 183.5547\n",
      "Epoch 4/10\n",
      "\u001b[1m25/25\u001b[0m \u001b[32m━━━━━━━━━━━━━━━━━━━━\u001b[0m\u001b[37m\u001b[0m \u001b[1m0s\u001b[0m 2ms/step - accuracy: 0.0083 - loss: 176.8454 - mean_squared_error: 176.8560 - val_accuracy: 0.0147 - val_loss: 191.9828 - val_mean_squared_error: 190.9974\n",
      "Epoch 5/10\n",
      "\u001b[1m25/25\u001b[0m \u001b[32m━━━━━━━━━━━━━━━━━━━━\u001b[0m\u001b[37m\u001b[0m \u001b[1m0s\u001b[0m 2ms/step - accuracy: 0.0111 - loss: 168.2511 - mean_squared_error: 168.2373 - val_accuracy: 0.0147 - val_loss: 190.3847 - val_mean_squared_error: 189.3474\n",
      "Epoch 6/10\n",
      "\u001b[1m25/25\u001b[0m \u001b[32m━━━━━━━━━━━━━━━━━━━━\u001b[0m\u001b[37m\u001b[0m \u001b[1m0s\u001b[0m 2ms/step - accuracy: 0.0121 - loss: 183.9487 - mean_squared_error: 183.9659 - val_accuracy: 0.0088 - val_loss: 187.1824 - val_mean_squared_error: 186.2699\n",
      "Epoch 7/10\n",
      "\u001b[1m25/25\u001b[0m \u001b[32m━━━━━━━━━━━━━━━━━━━━\u001b[0m\u001b[37m\u001b[0m \u001b[1m0s\u001b[0m 2ms/step - accuracy: 0.0154 - loss: 138.1816 - mean_squared_error: 138.1989 - val_accuracy: 0.0117 - val_loss: 188.3620 - val_mean_squared_error: 187.3454\n",
      "Epoch 8/10\n",
      "\u001b[1m25/25\u001b[0m \u001b[32m━━━━━━━━━━━━━━━━━━━━\u001b[0m\u001b[37m\u001b[0m \u001b[1m0s\u001b[0m 2ms/step - accuracy: 0.0094 - loss: 146.4482 - mean_squared_error: 146.4516 - val_accuracy: 0.0088 - val_loss: 197.4412 - val_mean_squared_error: 196.6732\n",
      "Epoch 9/10\n",
      "\u001b[1m25/25\u001b[0m \u001b[32m━━━━━━━━━━━━━━━━━━━━\u001b[0m\u001b[37m\u001b[0m \u001b[1m0s\u001b[0m 2ms/step - accuracy: 0.0092 - loss: 133.4247 - mean_squared_error: 133.4222 - val_accuracy: 0.0059 - val_loss: 206.8113 - val_mean_squared_error: 206.3397\n",
      "Epoch 10/10\n",
      "\u001b[1m25/25\u001b[0m \u001b[32m━━━━━━━━━━━━━━━━━━━━\u001b[0m\u001b[37m\u001b[0m \u001b[1m0s\u001b[0m 2ms/step - accuracy: 0.0048 - loss: 139.3655 - mean_squared_error: 139.3766 - val_accuracy: 0.0117 - val_loss: 216.9402 - val_mean_squared_error: 216.3412\n"
     ]
    }
   ],
   "source": [
    "history = bigger_model.fit(x=x_2016,\n",
    "    y=y_2016, epochs=10, validation_split = 0.3)"
   ]
  },
  {
   "cell_type": "code",
   "execution_count": 66,
   "id": "b6f66fe0-a9f7-497f-aad6-edd9dcf1ca59",
   "metadata": {
    "tags": []
   },
   "outputs": [
    {
     "name": "stdout",
     "output_type": "stream",
     "text": [
      "\u001b[1m36/36\u001b[0m \u001b[32m━━━━━━━━━━━━━━━━━━━━\u001b[0m\u001b[37m\u001b[0m \u001b[1m0s\u001b[0m 1ms/step \n"
     ]
    },
    {
     "data": {
      "image/png": "[encoded data removed]",
      "text/plain": [
       "<Figure size 640x480 with 1 Axes>"
      ]
     },
     "metadata": {},
     "output_type": "display_data"
    }
   ],
   "source": [
    "import matplotlib.pyplot as plt\n",
    "\n",
    "predictions = pd.DataFrame(bigger_model.predict(x_2017).flatten())\n",
    "\n",
    "predicted_values = predictions\n",
    "observed_values = y_2017\n",
    "\n",
    "\n",
    "# Plot histogram\n",
    "plt.hist(predicted_values, bins=40, label='Predicted', alpha=0.5)\n",
    "plt.hist(observed_values, bins=40, label='Observed', alpha=0.5)\n",
    "plt.xlabel('Values')\n",
    "plt.ylabel('Frequency')\n",
    "plt.title('Histogram of Predicted vs Observed Values')\n",
    "plt.legend()\n",
    "plt.show()"
   ]
  },
  {
   "cell_type": "code",
   "execution_count": 56,
   "id": "e8a8e4d7-1a71-4f27-8ad6-737f011528da",
   "metadata": {},
   "outputs": [
    {
     "ename": "SyntaxError",
     "evalue": "invalid syntax (1327538914.py, line 1)",
     "output_type": "error",
     "traceback": [
      "\u001b[0;36m  Cell \u001b[0;32mIn[56], line 1\u001b[0;36m\u001b[0m\n\u001b[0;31m    need to off set scores\u001b[0m\n\u001b[0m         ^\u001b[0m\n\u001b[0;31mSyntaxError\u001b[0m\u001b[0;31m:\u001b[0m invalid syntax\n"
     ]
    }
   ],
   "source": [
    "need to off set scores"
   ]
  },
  {
   "cell_type": "code",
   "execution_count": null,
   "id": "8a2112a9-1ec5-4486-a51b-502833fbb6fe",
   "metadata": {},
   "outputs": [],
   "source": []
  }
 ],
 "metadata": {
  "kernelspec": {
   "display_name": "Python 3 (ipykernel)",
   "language": "python",
   "name": "python3"
  },
  "language_info": {
   "codemirror_mode": {
    "name": "ipython",
    "version": 3
   },
   "file_extension": ".py",
   "mimetype": "text/x-python",
   "name": "python",
   "nbconvert_exporter": "python",
   "pygments_lexer": "ipython3",
   "version": "3.11.8"
  }
 },
 "nbformat": 4,
 "nbformat_minor": 5
}
